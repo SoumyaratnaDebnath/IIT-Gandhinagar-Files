{
  "nbformat": 4,
  "nbformat_minor": 0,
  "metadata": {
    "colab": {
      "provenance": []
    },
    "kernelspec": {
      "name": "python3",
      "display_name": "Python 3"
    },
    "language_info": {
      "name": "python"
    }
  },
  "cells": [
    {
      "cell_type": "markdown",
      "source": [
        "### Machine Learning Prerequisite Test\n",
        "by Soumyaratna Debnath, 22270004"
      ],
      "metadata": {
        "id": "GRNqkT3r4CNu"
      }
    },
    {
      "cell_type": "markdown",
      "source": [
        "<hr>"
      ],
      "metadata": {
        "id": "rNlqc1ce4Wxl"
      }
    },
    {
      "cell_type": "markdown",
      "source": [
        "#### Question 1\n",
        "**How many multiplications and additions do you need to perform a matrix multiplication between a (n, k) and (k, m) matrix? Explain.**\n"
      ],
      "metadata": {
        "id": "wocgjGsIA6JR"
      }
    },
    {
      "cell_type": "markdown",
      "source": [
        "Let us consider two matrics A and B such that\n",
        "\n",
        "$\n",
        "A = {\\begin{bmatrix}\n",
        "a & b & c\\\\\n",
        "d & e & f\n",
        "\\end{bmatrix}}_{2\\times 3}\n",
        "$\n",
        "\n",
        "$B = {\\begin{bmatrix}\n",
        "g & h\\\\\n",
        "i & j\\\\\n",
        "k & l\n",
        "\\end{bmatrix}}_{3\\times 2}\n",
        "$\n",
        "\n",
        "The matrix obtained by the product of the two matrics (say P) will be of dimension $2 \\times 2$ where each element of P[i, j] would be a result of 3 multiplactions and 2 additions. That is,\n",
        "\n",
        "$\n",
        "P = {\\begin{bmatrix}\n",
        "ag+bi+ck & ah+bj+cl\\\\\n",
        "dg+ei+fk & dh+ej+fl\n",
        "\\end{bmatrix}}_{2\\times 2}\n",
        "$\n",
        "\n",
        "The total number of multiplications = 3 x (2 x 2)\n",
        "and total number of additions = 2 x (2 x 2)\n",
        "\n",
        "For matrics of dimenstions (n, k) and (k, m), the resulttant matrix will have dimension (n, m). \n",
        "\n",
        "And the **total number of multiplcations will be (k $\\times$ n $\\times$ m)** and **total number of additions will be ((k-1) $\\times$ n $\\times$ m)** "
      ],
      "metadata": {
        "id": "Qxe9f747BPbY"
      }
    },
    {
      "cell_type": "markdown",
      "source": [
        "<hr>"
      ],
      "metadata": {
        "id": "2Wwr0JsVS6Vk"
      }
    },
    {
      "cell_type": "markdown",
      "source": [
        "#### Question 2\n",
        "**Write Python code to multiply the above two matrices. Solve using list of lists and then use numpy. Compare the timing of both solutions. Which one is faster? Why?**"
      ],
      "metadata": {
        "id": "RRme9in8H2uP"
      }
    },
    {
      "cell_type": "code",
      "execution_count": 3,
      "metadata": {
        "id": "RTiruKneAsP1"
      },
      "outputs": [],
      "source": [
        "# defining the value of N, K and M\n",
        "N = 112\n",
        "K = 141\n",
        "M = 103"
      ]
    },
    {
      "cell_type": "code",
      "source": [
        "# usual matrix multiplication routine using loops\n",
        "def muliplyMatrix(A, B):\n",
        "  R = [[0]*len(B[0]) for x in range(len(A))]\n",
        "  for i in range(len(A)):\n",
        "    for j in range(len(B[0])):\n",
        "        for k in range(len(B)): R[i][j] += A[i][k] * B[k][j]\n",
        "  return R"
      ],
      "metadata": {
        "id": "ykbxWHJf_CmC"
      },
      "execution_count": 4,
      "outputs": []
    },
    {
      "cell_type": "code",
      "source": [
        "import random\n",
        "\n",
        "# initializing two matrics using list of lists\n",
        "A1 = [[random.randint(10, 99)]*K]*N\n",
        "B1 = [[random.randint(10, 99)]*M]*K"
      ],
      "metadata": {
        "id": "q9T_kaQZ_HC5"
      },
      "execution_count": 10,
      "outputs": []
    },
    {
      "cell_type": "code",
      "source": [
        "# obtaining the time elapsed\n",
        "%timeit res1 = muliplyMatrix(A1, B1)"
      ],
      "metadata": {
        "colab": {
          "base_uri": "https://localhost:8080/"
        },
        "id": "QWLLipH7_tLp",
        "outputId": "7b789c6f-cf95-4948-903f-0c99a8ee66c2"
      },
      "execution_count": 11,
      "outputs": [
        {
          "output_type": "stream",
          "name": "stdout",
          "text": [
            "445 ms ± 4.16 ms per loop (mean ± std. dev. of 7 runs, 1 loop each)\n"
          ]
        }
      ]
    },
    {
      "cell_type": "code",
      "source": [
        "import numpy"
      ],
      "metadata": {
        "id": "loJbv5p4Ezwc"
      },
      "execution_count": 12,
      "outputs": []
    },
    {
      "cell_type": "code",
      "source": [
        "# initializaing two matrics using numpy\n",
        "A2 = numpy.ones((N, K))*numpy.random.randint(10,99)\n",
        "B2 = numpy.ones((K, M))*numpy.random.randint(10,99)"
      ],
      "metadata": {
        "id": "tedyA437Fc11"
      },
      "execution_count": 13,
      "outputs": []
    },
    {
      "cell_type": "code",
      "source": [
        "# obtaining the time elapsed using numpy.matmul function\n",
        "%timeit res2 = numpy.matmul(A2, B2)"
      ],
      "metadata": {
        "colab": {
          "base_uri": "https://localhost:8080/"
        },
        "id": "mqUGhbSuFdyB",
        "outputId": "3343712f-ce74-4c35-a369-d2ff254b9b7e"
      },
      "execution_count": 14,
      "outputs": [
        {
          "output_type": "stream",
          "name": "stdout",
          "text": [
            "174 µs ± 3.8 µs per loop (mean ± std. dev. of 7 runs, 10000 loops each)\n"
          ]
        }
      ]
    },
    {
      "cell_type": "markdown",
      "source": [
        "The reason for the drastic differene in CPU time is because a Python list can have different data-types, which puts lots of extra constraints while doing computation on it. Numpy array on the other hand is a collection of similar data-types that are densely packed in memory, thus, the operations are faster in the later case."
      ],
      "metadata": {
        "id": "jUdlcb6zbMYZ"
      }
    },
    {
      "cell_type": "markdown",
      "source": [
        "<hr>"
      ],
      "metadata": {
        "id": "XFBu9DkD7uiM"
      }
    },
    {
      "cell_type": "markdown",
      "source": [
        "#### Question 4\n",
        "**What is the gradient of the following function with respect to x and y?**\n",
        "$$x^2y + y^3\\sin(x)$$"
      ],
      "metadata": {
        "id": "85y-ekDZqo-L"
      }
    },
    {
      "cell_type": "markdown",
      "source": [
        "The gradient of the given equation with respect to $x$ is \n",
        "$$2xy + y^3 cos (x)$$\n",
        "\n",
        "And with respect to $y$ is\n",
        "$$x^2 + 3y^2sin(x)$$"
      ],
      "metadata": {
        "id": "dH54cmjSqn14"
      }
    },
    {
      "cell_type": "markdown",
      "source": [
        "<hr>"
      ],
      "metadata": {
        "id": "-OFcigJE3zvV"
      }
    },
    {
      "cell_type": "markdown",
      "source": [
        "#### Question 5\n",
        "Use JAX to confirm the gradient evaluated by your method matches the analytical solution corresponding to a few random values of x and y."
      ],
      "metadata": {
        "id": "6WGgs0Mp3zhQ"
      }
    },
    {
      "cell_type": "code",
      "source": [
        "import math\n",
        "\n",
        "# the function returns the gradient of the given equation wrt x\n",
        "def grad_A_X(x, y):\n",
        "  return 2*x*y + (y**3)*math.cos(x)\n",
        "\n",
        "# the function returns the gradient of the given equation wrt y\n",
        "def grad_A_Y(x, y):\n",
        "  return x**2 + 3*(y**2)*math.sin(x)"
      ],
      "metadata": {
        "id": "3bG1PNEWBedv"
      },
      "execution_count": 15,
      "outputs": []
    },
    {
      "cell_type": "code",
      "source": [
        "import jax.numpy as jnp\n",
        "from jax import grad  \n",
        "\n",
        "# defining the original function\n",
        "def func(x, y):\n",
        "    return (x**2) * y + (y**3) * jnp.sin(x)\n",
        "\n",
        "# gradient wrt x using JAX\n",
        "grad_J_X = grad(func, argnums = 0)\n",
        "\n",
        "#gradient wrt y using JAX\n",
        "grad_J_Y = grad(func, argnums = 1)"
      ],
      "metadata": {
        "id": "V5Yyuix9GQ5H"
      },
      "execution_count": 16,
      "outputs": []
    },
    {
      "cell_type": "code",
      "source": [
        "import numpy\n",
        "\n",
        "# randomly generating x and y\n",
        "x = numpy.random.random(5)\n",
        "y = numpy.random.random(5)\n",
        "\n",
        "# evaluation \n",
        "for (i, j) in zip(x, y):\n",
        "  A = grad_A_X(i, j)\n",
        "  J = grad_J_X(i, j)\n",
        "  print('Gradient wrt X : Analytical = {0} \\t\\t JAX = {1} \\t\\t Difference = {2}'.format(A, J, abs(A-J)))\n",
        "\n",
        "print('')\n",
        "\n",
        "for (i, j) in zip(x, y):\n",
        "  A = grad_A_Y(i, j)\n",
        "  J = grad_J_Y(i, j)\n",
        "  print('Gradient wrt Y : Analytical = {0} \\t\\t JAX = {1} \\t\\t Difference = {2}'.format(A, J, abs(A-J)))"
      ],
      "metadata": {
        "colab": {
          "base_uri": "https://localhost:8080/"
        },
        "id": "xWKCZv9VswMI",
        "outputId": "6bb0614c-3f3d-4a8f-959d-8b27835dd315"
      },
      "execution_count": 17,
      "outputs": [
        {
          "output_type": "stream",
          "name": "stderr",
          "text": [
            "WARNING:jax._src.lib.xla_bridge:No GPU/TPU found, falling back to CPU. (Set TF_CPP_MIN_LOG_LEVEL=0 and rerun for more info.)\n"
          ]
        },
        {
          "output_type": "stream",
          "name": "stdout",
          "text": [
            "Gradient wrt X : Analytical = 0.724331593149686 \t\t JAX = 0.7243315577507019 \t\t Difference = 5.960464477539063e-08\n",
            "Gradient wrt X : Analytical = 0.3566246183112793 \t\t JAX = 0.35662463307380676 \t\t Difference = 0.0\n",
            "Gradient wrt X : Analytical = 0.17755654082930905 \t\t JAX = 0.17755651473999023 \t\t Difference = 2.9802322387695312e-08\n",
            "Gradient wrt X : Analytical = 0.12364877509690367 \t\t JAX = 0.12364877760410309 \t\t Difference = 0.0\n",
            "Gradient wrt X : Analytical = 0.06744545455239598 \t\t JAX = 0.06744545698165894 \t\t Difference = 0.0\n",
            "\n",
            "Gradient wrt Y : Analytical = 0.1335834818557851 \t\t JAX = 0.13358348608016968 \t\t Difference = 0.0\n",
            "Gradient wrt Y : Analytical = 0.9557789336357421 \t\t JAX = 0.955778956413269 \t\t Difference = 0.0\n",
            "Gradient wrt Y : Analytical = 0.15356210305796697 \t\t JAX = 0.15356209874153137 \t\t Difference = 0.0\n",
            "Gradient wrt Y : Analytical = 0.6704491289517531 \t\t JAX = 0.6704491376876831 \t\t Difference = 0.0\n",
            "Gradient wrt Y : Analytical = 0.3004465538464598 \t\t JAX = 0.3004465401172638 \t\t Difference = 0.0\n"
          ]
        }
      ]
    },
    {
      "cell_type": "markdown",
      "source": [
        "The results obtained through JAX matches to that obtained analytically"
      ],
      "metadata": {
        "id": "NSK8uMTXwFAV"
      }
    },
    {
      "cell_type": "markdown",
      "source": [
        "<hr>"
      ],
      "metadata": {
        "id": "5Nlyk3cd7nsh"
      }
    },
    {
      "cell_type": "markdown",
      "source": [
        "#### Question 6\n",
        "**Use sympy to confirm that you obtain the same gradient analytically.**"
      ],
      "metadata": {
        "id": "W2tOkp147nSx"
      }
    },
    {
      "cell_type": "code",
      "source": [
        "from sympy import symbols, expand, diff, sin\n",
        "x, y = symbols('x y')\n",
        "expression = (x**2) * y + (y**3) * sin(x)\n",
        " \n",
        "# gradient wrt x\n",
        "grad_X = diff(expression, x)\n",
        "\n",
        "# gradient wrt y\n",
        "grad_Y = diff(expression, y)\n",
        "\n",
        "# evaluation  \n",
        "print('Given Equation :', expression)\n",
        "print('Gradient wrt X :', grad_X)\n",
        "print('Gradient wrt Y :', grad_Y) "
      ],
      "metadata": {
        "colab": {
          "base_uri": "https://localhost:8080/"
        },
        "id": "aLY88upWxBU5",
        "outputId": "d5ac33bc-e3f6-4ca0-ea76-022caa55d6b7"
      },
      "execution_count": 18,
      "outputs": [
        {
          "output_type": "stream",
          "name": "stdout",
          "text": [
            "Given Equation : x**2*y + y**3*sin(x)\n",
            "Gradient wrt X : 2*x*y + y**3*cos(x)\n",
            "Gradient wrt Y : x**2 + 3*y**2*sin(x)\n"
          ]
        }
      ]
    },
    {
      "cell_type": "markdown",
      "source": [
        "The result obtained using sympy is identical to that obtained analytically."
      ],
      "metadata": {
        "id": "euswsOmW1STK"
      }
    },
    {
      "cell_type": "markdown",
      "source": [
        "<hr>"
      ],
      "metadata": {
        "id": "0YohcR4Qxt9x"
      }
    },
    {
      "cell_type": "markdown",
      "source": [
        "#### Question 7\n",
        "\n",
        "**Create a Python nested dictionary to represent hierarchical information. We want to store record of students and their marks.**"
      ],
      "metadata": {
        "id": "ZLMU8xWUxtw8"
      }
    },
    {
      "cell_type": "code",
      "source": [
        "Students = {}\n",
        "\n",
        "# creating year 2022\n",
        "Students['2022'] = {}\n",
        "# creating Branch 1 for 2022\n",
        "Students['2022']['Branch 1'] = {}\n",
        "# creating Student 1 for Branch 1 of 2022\n",
        "Students['2022']['Branch 1']['Student 1'] = {}\n",
        "# adding data to student\n",
        "Students['2022']['Branch 1']['Student 1']['Roll No'] = 1\n",
        "Students['2022']['Branch 1']['Student 1']['Name'] = 'TestName1'\n",
        "Students['2022']['Branch 1']['Student 1']['Marks'] = {}\n",
        "Students['2022']['Branch 1']['Student 1']['Marks']['Maths'] = 100\n",
        "Students['2022']['Branch 1']['Student 1']['Marks']['English'] = 70\n",
        "\n",
        "Students['2022']['Branch 1']['Student 2'] = {}\n",
        "Students['2022']['Branch 1']['Student 2']['Roll No'] = 2\n",
        "Students['2022']['Branch 1']['Student 2']['Name'] = 'TestName2'\n",
        "Students['2022']['Branch 1']['Student 2']['Marks'] = {}\n",
        "Students['2022']['Branch 1']['Student 2']['Marks']['Maths'] = 70\n",
        "Students['2022']['Branch 1']['Student 2']['Marks']['English'] = 100\n",
        "\n",
        "Students['2022']['Branch 2'] = {}\n",
        "\n",
        "Students['2023'] = {}\n",
        "Students['2023']['Branch 1'] = {}\n",
        "Students['2023']['Branch 2'] = {}"
      ],
      "metadata": {
        "id": "53v6w6_LxAuq"
      },
      "execution_count": 19,
      "outputs": []
    },
    {
      "cell_type": "code",
      "source": [
        "# presenting the data hierarchically\n",
        "for batch in Students:\n",
        "  for branch in Students[batch]:\n",
        "    for student in Students[batch][branch]:\n",
        "      print('Year={0}  Branch={1}  Details={2}'.format(batch, branch, Students[batch][branch][student]))"
      ],
      "metadata": {
        "colab": {
          "base_uri": "https://localhost:8080/"
        },
        "id": "gFAL7CKp1eVE",
        "outputId": "c0246948-be3f-4ada-cb23-cc8ce8e472b4"
      },
      "execution_count": 21,
      "outputs": [
        {
          "output_type": "stream",
          "name": "stdout",
          "text": [
            "Year=2022  Branch=Branch 1  Details={'Roll No': 1, 'Name': 'TestName1', 'Marks': {'Maths': 100, 'English': 70}}\n",
            "Year=2022  Branch=Branch 1  Details={'Roll No': 2, 'Name': 'TestName2', 'Marks': {'Maths': 70, 'English': 100}}\n"
          ]
        }
      ]
    },
    {
      "cell_type": "markdown",
      "source": [
        "<hr>"
      ],
      "metadata": {
        "id": "s_aeSaFSBBke"
      }
    },
    {
      "cell_type": "markdown",
      "source": [
        "#### Question 8\n",
        "\n",
        "**Store the same information using Python classes. We have an overall database which is a list of year objects. Each year contains a list of branches. Each branch contains a list of students. Each student has some properties like name, roll number and has marks in some subjects.**"
      ],
      "metadata": {
        "id": "KpWv9OaUBBBY"
      }
    },
    {
      "cell_type": "code",
      "source": [
        "class Score:\n",
        "  def __init__(self, a, b):\n",
        "    self.Maths = a\n",
        "    self.English = b\n",
        "\n",
        "  def show(self):\n",
        "    return '[Maths = ' + str(self.Maths) + ' English = ' + str(self.English) +']'\n",
        "\n",
        "class Student:\n",
        "  def __init__(self, r = None, n = None, a = 0, b = 0):\n",
        "    self.RollNo = r\n",
        "    self.Name = n\n",
        "    self.Marks = Score(a, b)\n",
        "\n",
        "  def show(self):\n",
        "    print('Roll No = {0}, Name = {1}, Marks = {2}'.format(self.RollNo, self.Name, self.Marks.show()))\n",
        "\n",
        "class Branch:\n",
        "  def __init__(self, branch = 'NA', students = []):\n",
        "    self.branch = branch\n",
        "    self.students = students\n",
        "  \n",
        "  def show(self):\n",
        "    print('Branch =', self.branch)\n",
        "    for items in self.students:\n",
        "      items.show()\n",
        "    print('')\n",
        "\n",
        "class Year:\n",
        "  def __init__(self, year = 2022, branches = []):\n",
        "    self.year = year\n",
        "    self.branches = branches\n",
        "\n",
        "  def show(self):\n",
        "    print('Year =', self.year, end = '\\n\\n')\n",
        "    for items in self.branches:\n",
        "      items.show()\n",
        "    print('-------------------------------')\n",
        "\n",
        "class Students:\n",
        "  def __init__(self, years = []):\n",
        "    self.years = years\n",
        "\n",
        "  def show(self):\n",
        "    for items in self.years:\n",
        "      items.show()"
      ],
      "metadata": {
        "id": "DClQzZFwusy5"
      },
      "execution_count": 23,
      "outputs": []
    },
    {
      "cell_type": "code",
      "source": [
        "# creating a sample database with years 2022 and 2023, each year having two Branches\n",
        "Database1 = Students([Year(2022, [Branch('Branch 1', [Student(1, 'Name1', 70, 100), Student(2, 'Name2', 100, 70)]), Branch('Branch 2')]), \n",
        "                      Year(2023, [Branch('Branch 1'), Branch('Branch 2')])])"
      ],
      "metadata": {
        "id": "MwuUualQ0or1"
      },
      "execution_count": 24,
      "outputs": []
    },
    {
      "cell_type": "code",
      "source": [
        "# presenting the data hierarchically\n",
        "Database1.show()"
      ],
      "metadata": {
        "colab": {
          "base_uri": "https://localhost:8080/"
        },
        "id": "3lq9XJVC7kID",
        "outputId": "eb48bf79-76b7-4fe0-94b9-d1fdc3fc27e9"
      },
      "execution_count": 61,
      "outputs": [
        {
          "output_type": "stream",
          "name": "stdout",
          "text": [
            "Year = 2022\n",
            "\n",
            "Branch = Branch 1\n",
            "Roll No = 1, Name = Name1, Marks = [Maths = 70 English = 100]\n",
            "Roll No = 2, Name = Name2, Marks = [Maths = 100 English = 70]\n",
            "\n",
            "Branch = Branch 2\n",
            "\n",
            "-------------------------------\n",
            "Year = 2023\n",
            "\n",
            "Branch = Branch 1\n",
            "\n",
            "Branch = Branch 2\n",
            "\n",
            "-------------------------------\n"
          ]
        }
      ]
    },
    {
      "cell_type": "markdown",
      "source": [
        "<hr>"
      ],
      "metadata": {
        "id": "qGSJCxyuP3Tt"
      }
    },
    {
      "cell_type": "markdown",
      "source": [
        "#### Question 9\n",
        "**Using matplotlib plot the following functions on the domain: x = 0.5 to 100.0 in steps of 0.5.**\n",
        "\n",
        "$\n",
        "y = x \\\\\n",
        "y = x^2 \\\\\n",
        "y = \\frac{x^3}{100} \\\\\n",
        "y = sin(x) \\\\\n",
        "y = \\frac{sin(x)}{x} \\\\\n",
        "y = log(x) \\\\\n",
        "y = e^x\n",
        "$"
      ],
      "metadata": {
        "id": "Y4p1qsDwP3Gv"
      }
    },
    {
      "cell_type": "code",
      "source": [
        "import math\n",
        "\n",
        "# defining the functions as f1 through f7\n",
        "def f1(x):\n",
        "  return x\n",
        "\n",
        "def f2(x):\n",
        "  return x**2\n",
        "\n",
        "def f3(x):\n",
        "  return (x**3)/100\n",
        "\n",
        "def f4(x):\n",
        "  return math.sin(x)\n",
        "\n",
        "def f5(x):\n",
        "  return math.sin(x)/x\n",
        "\n",
        "def f6(x):\n",
        "  return math.log(x)\n",
        "\n",
        "def f7(x):\n",
        "  return math.e**x"
      ],
      "metadata": {
        "id": "yLWYPywbDTOn"
      },
      "execution_count": 25,
      "outputs": []
    },
    {
      "cell_type": "code",
      "source": [
        "import matplotlib.pyplot as plt\n",
        "import numpy\n",
        "\n",
        "# creating an array of x coordinates, from 0.5 to 100, with a step of 0.5\n",
        "x_corr = numpy.arange(0.5, 100.5, 0.5)\n",
        "\n",
        "# creating 4x2 = 8 subplots\n",
        "fig, ax = plt.subplots(4, 2, figsize=(15, 20))\n",
        "fig.tight_layout(pad=5.0) # adding pad between the subplots\n",
        "\n",
        "ax[0, 0].set_title('y = x') # title of the subplot\n",
        "ax[0, 0].set_xlabel('X')    # xlabel for the subplot\n",
        "ax[0, 0].set_ylabel('Y')    # ylabel for the subplot\n",
        "ax[0, 0].grid()             # adding the grid\n",
        "ax[0, 0].plot(x_corr, [f1(c) for c in x_corr], color = 'red') # producing the curve in red\n",
        "\n",
        "ax[0, 1].set_title('y = x^2')\n",
        "ax[0, 1].set_xlabel('X')\n",
        "ax[0, 1].set_ylabel('Y')\n",
        "ax[0, 1].grid()\n",
        "ax[0, 1].plot(x_corr, [f2(c) for c in x_corr], color = 'red')\n",
        "\n",
        "ax[1, 0].set_title('y = (x^3)/100')\n",
        "ax[1, 0].set_xlabel('X')\n",
        "ax[1, 0].set_ylabel('Y')\n",
        "ax[1, 0].grid()\n",
        "ax[1, 0].plot(x_corr, [f3(c) for c in x_corr], color = 'red')\n",
        "\n",
        "ax[1, 1].set_title('y = sin(x)')\n",
        "ax[1, 1].set_xlabel('X')\n",
        "ax[1, 1].set_ylabel('Y')\n",
        "ax[1, 1].grid()\n",
        "ax[1, 1].plot(x_corr, [f4(c) for c in x_corr], color = 'red')\n",
        "\n",
        "ax[2, 0].set_title('y = sin(x)/x')\n",
        "ax[2, 0].set_xlabel('X')\n",
        "ax[2, 0].set_ylabel('Y')\n",
        "ax[2, 0].grid()\n",
        "ax[2, 0].plot(x_corr, [f5(c) for c in x_corr], color = 'red')\n",
        "\n",
        "ax[2, 1].set_title('y = log(x)')\n",
        "ax[2, 1].set_xlabel('X')\n",
        "ax[2, 1].set_ylabel('Y')\n",
        "ax[2, 1].grid()\n",
        "ax[2, 1].plot(x_corr, [f6(c) for c in x_corr], color = 'red')\n",
        "\n",
        "ax[3, 0].set_title('y = e^x')\n",
        "ax[3, 0].set_xlabel('X')\n",
        "ax[3, 0].set_ylabel('Y')\n",
        "ax[3, 0].grid()\n",
        "ax[3, 0].plot(x_corr, [f7(c) for c in x_corr], color = 'red')\n",
        "\n",
        "ax[3, 1].axis('off')\n",
        "\n",
        "plt.show()"
      ],
      "metadata": {
        "colab": {
          "base_uri": "https://localhost:8080/",
          "height": 1000
        },
        "id": "arbBxQsP91st",
        "outputId": "74e96eaf-4c03-47b6-d29f-037b07d10fdf"
      },
      "execution_count": 27,
      "outputs": [
        {
          "output_type": "display_data",
          "data": {
            "text/plain": [
              "<Figure size 1080x1440 with 8 Axes>"
            ],
            "image/png": "[encoded data removed]"
          },
          "metadata": {
            "needs_background": "light"
          }
        }
      ]
    },
    {
      "cell_type": "code",
      "source": [],
      "metadata": {
        "id": "E77qbef-EwLI"
      },
      "execution_count": null,
      "outputs": []
    }
  ]
}